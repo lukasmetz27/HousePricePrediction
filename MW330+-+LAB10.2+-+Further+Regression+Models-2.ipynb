{
 "cells": [
  {
   "cell_type": "code",
   "execution_count": 1,
   "metadata": {},
   "outputs": [
    {
     "ename": "XGBoostError",
     "evalue": "\nXGBoost Library (libxgboost.dylib) could not be loaded.\nLikely causes:\n  * OpenMP runtime is not installed\n    - vcomp140.dll or libgomp-1.dll for Windows\n    - libomp.dylib for Mac OSX\n    - libgomp.so for Linux and other UNIX-like OSes\n    Mac OSX users: Run `brew install libomp` to install OpenMP runtime.\n\n  * You are running 32-bit Python on a 64-bit OS\n\nError message(s): [\"dlopen(/Users/lukasmetz/opt/anaconda3/lib/python3.8/site-packages/xgboost/lib/libxgboost.dylib, 0x0006): Library not loaded: /usr/local/opt/libomp/lib/libomp.dylib\\n  Referenced from: /Users/lukasmetz/opt/anaconda3/lib/python3.8/site-packages/xgboost/lib/libxgboost.dylib\\n  Reason: tried: '/usr/local/opt/libomp/lib/libomp.dylib' (no such file), '/usr/local/lib/libomp.dylib' (no such file), '/usr/lib/libomp.dylib' (no such file)\"]\n",
     "output_type": "error",
     "traceback": [
      "\u001b[0;31m---------------------------------------------------------------------------\u001b[0m",
      "\u001b[0;31mXGBoostError\u001b[0m                              Traceback (most recent call last)",
      "\u001b[0;32m<ipython-input-1-13da0904cb31>\u001b[0m in \u001b[0;36m<module>\u001b[0;34m\u001b[0m\n\u001b[1;32m      7\u001b[0m \u001b[0;32mfrom\u001b[0m \u001b[0msklearn\u001b[0m\u001b[0;34m.\u001b[0m\u001b[0mmodel_selection\u001b[0m \u001b[0;32mimport\u001b[0m \u001b[0mGridSearchCV\u001b[0m\u001b[0;34m\u001b[0m\u001b[0;34m\u001b[0m\u001b[0m\n\u001b[1;32m      8\u001b[0m \u001b[0;32mfrom\u001b[0m \u001b[0msklearn\u001b[0m\u001b[0;34m.\u001b[0m\u001b[0mmetrics\u001b[0m \u001b[0;32mimport\u001b[0m \u001b[0mmean_squared_error\u001b[0m\u001b[0;34m,\u001b[0m \u001b[0mmean_absolute_error\u001b[0m\u001b[0;34m\u001b[0m\u001b[0;34m\u001b[0m\u001b[0m\n\u001b[0;32m----> 9\u001b[0;31m \u001b[0;32mfrom\u001b[0m \u001b[0mxgboost\u001b[0m \u001b[0;32mimport\u001b[0m \u001b[0mXGBRegressor\u001b[0m\u001b[0;34m\u001b[0m\u001b[0;34m\u001b[0m\u001b[0m\n\u001b[0m",
      "\u001b[0;32m~/opt/anaconda3/lib/python3.8/site-packages/xgboost/__init__.py\u001b[0m in \u001b[0;36m<module>\u001b[0;34m\u001b[0m\n\u001b[1;32m      7\u001b[0m \u001b[0;32mimport\u001b[0m \u001b[0mos\u001b[0m\u001b[0;34m\u001b[0m\u001b[0;34m\u001b[0m\u001b[0m\n\u001b[1;32m      8\u001b[0m \u001b[0;34m\u001b[0m\u001b[0m\n\u001b[0;32m----> 9\u001b[0;31m \u001b[0;32mfrom\u001b[0m \u001b[0;34m.\u001b[0m\u001b[0mcore\u001b[0m \u001b[0;32mimport\u001b[0m \u001b[0mDMatrix\u001b[0m\u001b[0;34m,\u001b[0m \u001b[0mDeviceQuantileDMatrix\u001b[0m\u001b[0;34m,\u001b[0m \u001b[0mBooster\u001b[0m\u001b[0;34m,\u001b[0m \u001b[0mDataIter\u001b[0m\u001b[0;34m\u001b[0m\u001b[0;34m\u001b[0m\u001b[0m\n\u001b[0m\u001b[1;32m     10\u001b[0m \u001b[0;32mfrom\u001b[0m \u001b[0;34m.\u001b[0m\u001b[0mtraining\u001b[0m \u001b[0;32mimport\u001b[0m \u001b[0mtrain\u001b[0m\u001b[0;34m,\u001b[0m \u001b[0mcv\u001b[0m\u001b[0;34m\u001b[0m\u001b[0;34m\u001b[0m\u001b[0m\n\u001b[1;32m     11\u001b[0m \u001b[0;32mfrom\u001b[0m \u001b[0;34m.\u001b[0m \u001b[0;32mimport\u001b[0m \u001b[0mrabit\u001b[0m  \u001b[0;31m# noqa\u001b[0m\u001b[0;34m\u001b[0m\u001b[0;34m\u001b[0m\u001b[0m\n",
      "\u001b[0;32m~/opt/anaconda3/lib/python3.8/site-packages/xgboost/core.py\u001b[0m in \u001b[0;36m<module>\u001b[0;34m\u001b[0m\n\u001b[1;32m    201\u001b[0m \u001b[0;34m\u001b[0m\u001b[0m\n\u001b[1;32m    202\u001b[0m \u001b[0;31m# load the XGBoost library globally\u001b[0m\u001b[0;34m\u001b[0m\u001b[0;34m\u001b[0m\u001b[0;34m\u001b[0m\u001b[0m\n\u001b[0;32m--> 203\u001b[0;31m \u001b[0m_LIB\u001b[0m \u001b[0;34m=\u001b[0m \u001b[0m_load_lib\u001b[0m\u001b[0;34m(\u001b[0m\u001b[0;34m)\u001b[0m\u001b[0;34m\u001b[0m\u001b[0;34m\u001b[0m\u001b[0m\n\u001b[0m\u001b[1;32m    204\u001b[0m \u001b[0;34m\u001b[0m\u001b[0m\n\u001b[1;32m    205\u001b[0m \u001b[0;34m\u001b[0m\u001b[0m\n",
      "\u001b[0;32m~/opt/anaconda3/lib/python3.8/site-packages/xgboost/core.py\u001b[0m in \u001b[0;36m_load_lib\u001b[0;34m()\u001b[0m\n\u001b[1;32m    179\u001b[0m     \u001b[0;32mif\u001b[0m \u001b[0;32mnot\u001b[0m \u001b[0mlib_success\u001b[0m\u001b[0;34m:\u001b[0m\u001b[0;34m\u001b[0m\u001b[0;34m\u001b[0m\u001b[0m\n\u001b[1;32m    180\u001b[0m         \u001b[0mlibname\u001b[0m \u001b[0;34m=\u001b[0m \u001b[0mos\u001b[0m\u001b[0;34m.\u001b[0m\u001b[0mpath\u001b[0m\u001b[0;34m.\u001b[0m\u001b[0mbasename\u001b[0m\u001b[0;34m(\u001b[0m\u001b[0mlib_paths\u001b[0m\u001b[0;34m[\u001b[0m\u001b[0;36m0\u001b[0m\u001b[0;34m]\u001b[0m\u001b[0;34m)\u001b[0m\u001b[0;34m\u001b[0m\u001b[0;34m\u001b[0m\u001b[0m\n\u001b[0;32m--> 181\u001b[0;31m         raise XGBoostError(\n\u001b[0m\u001b[1;32m    182\u001b[0m             f\"\"\"\n\u001b[1;32m    183\u001b[0m \u001b[0mXGBoost\u001b[0m \u001b[0mLibrary\u001b[0m \u001b[0;34m(\u001b[0m\u001b[0;34m{\u001b[0m\u001b[0mlibname\u001b[0m\u001b[0;34m}\u001b[0m\u001b[0;34m)\u001b[0m \u001b[0mcould\u001b[0m \u001b[0;32mnot\u001b[0m \u001b[0mbe\u001b[0m \u001b[0mloaded\u001b[0m\u001b[0;34m.\u001b[0m\u001b[0;34m\u001b[0m\u001b[0;34m\u001b[0m\u001b[0m\n",
      "\u001b[0;31mXGBoostError\u001b[0m: \nXGBoost Library (libxgboost.dylib) could not be loaded.\nLikely causes:\n  * OpenMP runtime is not installed\n    - vcomp140.dll or libgomp-1.dll for Windows\n    - libomp.dylib for Mac OSX\n    - libgomp.so for Linux and other UNIX-like OSes\n    Mac OSX users: Run `brew install libomp` to install OpenMP runtime.\n\n  * You are running 32-bit Python on a 64-bit OS\n\nError message(s): [\"dlopen(/Users/lukasmetz/opt/anaconda3/lib/python3.8/site-packages/xgboost/lib/libxgboost.dylib, 0x0006): Library not loaded: /usr/local/opt/libomp/lib/libomp.dylib\\n  Referenced from: /Users/lukasmetz/opt/anaconda3/lib/python3.8/site-packages/xgboost/lib/libxgboost.dylib\\n  Reason: tried: '/usr/local/opt/libomp/lib/libomp.dylib' (no such file), '/usr/local/lib/libomp.dylib' (no such file), '/usr/lib/libomp.dylib' (no such file)\"]\n"
     ]
    }
   ],
   "source": [
    "import numpy as np\n",
    "import pandas as pd\n",
    "import seaborn as sns\n",
    "from matplotlib import pyplot as plt\n",
    "from sklearn.tree import DecisionTreeRegressor\n",
    "from sklearn.ensemble import RandomForestRegressor\n",
    "from sklearn.model_selection import GridSearchCV\n",
    "from sklearn.metrics import mean_squared_error, mean_absolute_error\n",
    "from xgboost import XGBRegressor"
   ]
  },
  {
   "cell_type": "markdown",
   "metadata": {},
   "source": [
    "# Load mpg dataset and prepare for regression"
   ]
  },
  {
   "cell_type": "code",
   "execution_count": 2,
   "metadata": {},
   "outputs": [
    {
     "data": {
      "text/html": [
       "<div>\n",
       "<style scoped>\n",
       "    .dataframe tbody tr th:only-of-type {\n",
       "        vertical-align: middle;\n",
       "    }\n",
       "\n",
       "    .dataframe tbody tr th {\n",
       "        vertical-align: top;\n",
       "    }\n",
       "\n",
       "    .dataframe thead th {\n",
       "        text-align: right;\n",
       "    }\n",
       "</style>\n",
       "<table border=\"1\" class=\"dataframe\">\n",
       "  <thead>\n",
       "    <tr style=\"text-align: right;\">\n",
       "      <th></th>\n",
       "      <th>mpg</th>\n",
       "      <th>cylinders</th>\n",
       "      <th>displacement</th>\n",
       "      <th>horsepower</th>\n",
       "      <th>weight</th>\n",
       "      <th>acceleration</th>\n",
       "      <th>model_year</th>\n",
       "      <th>origin</th>\n",
       "      <th>name</th>\n",
       "    </tr>\n",
       "  </thead>\n",
       "  <tbody>\n",
       "    <tr>\n",
       "      <th>0</th>\n",
       "      <td>18.0</td>\n",
       "      <td>8</td>\n",
       "      <td>307.0</td>\n",
       "      <td>130.0</td>\n",
       "      <td>3504</td>\n",
       "      <td>12.0</td>\n",
       "      <td>70</td>\n",
       "      <td>usa</td>\n",
       "      <td>chevrolet chevelle malibu</td>\n",
       "    </tr>\n",
       "    <tr>\n",
       "      <th>1</th>\n",
       "      <td>15.0</td>\n",
       "      <td>8</td>\n",
       "      <td>350.0</td>\n",
       "      <td>165.0</td>\n",
       "      <td>3693</td>\n",
       "      <td>11.5</td>\n",
       "      <td>70</td>\n",
       "      <td>usa</td>\n",
       "      <td>buick skylark 320</td>\n",
       "    </tr>\n",
       "    <tr>\n",
       "      <th>2</th>\n",
       "      <td>18.0</td>\n",
       "      <td>8</td>\n",
       "      <td>318.0</td>\n",
       "      <td>150.0</td>\n",
       "      <td>3436</td>\n",
       "      <td>11.0</td>\n",
       "      <td>70</td>\n",
       "      <td>usa</td>\n",
       "      <td>plymouth satellite</td>\n",
       "    </tr>\n",
       "    <tr>\n",
       "      <th>3</th>\n",
       "      <td>16.0</td>\n",
       "      <td>8</td>\n",
       "      <td>304.0</td>\n",
       "      <td>150.0</td>\n",
       "      <td>3433</td>\n",
       "      <td>12.0</td>\n",
       "      <td>70</td>\n",
       "      <td>usa</td>\n",
       "      <td>amc rebel sst</td>\n",
       "    </tr>\n",
       "    <tr>\n",
       "      <th>4</th>\n",
       "      <td>17.0</td>\n",
       "      <td>8</td>\n",
       "      <td>302.0</td>\n",
       "      <td>140.0</td>\n",
       "      <td>3449</td>\n",
       "      <td>10.5</td>\n",
       "      <td>70</td>\n",
       "      <td>usa</td>\n",
       "      <td>ford torino</td>\n",
       "    </tr>\n",
       "  </tbody>\n",
       "</table>\n",
       "</div>"
      ],
      "text/plain": [
       "    mpg  cylinders  displacement  horsepower  weight  acceleration  \\\n",
       "0  18.0          8         307.0       130.0    3504          12.0   \n",
       "1  15.0          8         350.0       165.0    3693          11.5   \n",
       "2  18.0          8         318.0       150.0    3436          11.0   \n",
       "3  16.0          8         304.0       150.0    3433          12.0   \n",
       "4  17.0          8         302.0       140.0    3449          10.5   \n",
       "\n",
       "   model_year origin                       name  \n",
       "0          70    usa  chevrolet chevelle malibu  \n",
       "1          70    usa          buick skylark 320  \n",
       "2          70    usa         plymouth satellite  \n",
       "3          70    usa              amc rebel sst  \n",
       "4          70    usa                ford torino  "
      ]
     },
     "execution_count": 2,
     "metadata": {},
     "output_type": "execute_result"
    }
   ],
   "source": [
    "df = sns.load_dataset('mpg')\n",
    "df.head()"
   ]
  },
  {
   "cell_type": "code",
   "execution_count": 3,
   "metadata": {},
   "outputs": [],
   "source": [
    "df = df.dropna()"
   ]
  },
  {
   "cell_type": "code",
   "execution_count": 4,
   "metadata": {},
   "outputs": [
    {
     "data": {
      "image/png": "[encoded data removed]",
      "text/plain": [
       "<Figure size 432x288 with 1 Axes>"
      ]
     },
     "metadata": {
      "needs_background": "light"
     },
     "output_type": "display_data"
    }
   ],
   "source": [
    "sns.scatterplot(data=df, x='weight', y='mpg')\n",
    "plt.show()"
   ]
  },
  {
   "cell_type": "code",
   "execution_count": 5,
   "metadata": {},
   "outputs": [],
   "source": [
    "def get_metrics(X, y, model):\n",
    "    y_pred = model.predict(X)\n",
    "    print('R^2: {}'.format(model.score(X, y)))\n",
    "    print('MSE: {}'.format(mean_squared_error(y, y_pred)))\n",
    "    print('MAE: {}'.format(mean_absolute_error(y, y_pred)))"
   ]
  },
  {
   "cell_type": "markdown",
   "metadata": {},
   "source": [
    "# Decision Tree Regressor"
   ]
  },
  {
   "cell_type": "code",
   "execution_count": 6,
   "metadata": {},
   "outputs": [
    {
     "name": "stdout",
     "output_type": "stream",
     "text": [
      "R^2: 0.7096817768665133\n",
      "MSE: 17.6405302572979\n",
      "MAE: 3.099805582752566\n",
      "R^2: 0.9381675919610309\n",
      "MSE: 3.7571064369304166\n",
      "MAE: 1.13633764619734\n"
     ]
    }
   ],
   "source": [
    "X = df['weight'].values.reshape(-1, 1)\n",
    "y = df['mpg'].values.reshape(-1, 1)\n",
    "\n",
    "# Fit regression model\n",
    "regr_1 = DecisionTreeRegressor(max_depth=2)\n",
    "regr_2 = DecisionTreeRegressor(max_depth=10)\n",
    "regr_1.fit(X, y)\n",
    "regr_2.fit(X, y)\n",
    "\n",
    "# Score\n",
    "get_metrics(X, y, regr_1)\n",
    "get_metrics(X, y, regr_2)\n",
    "\n",
    "#Entscheidungsbaum mit Tiefe von 10 besser"
   ]
  },
  {
   "cell_type": "code",
   "execution_count": 9,
   "metadata": {},
   "outputs": [
    {
     "data": {
      "text/plain": [
       "array([[3504],\n",
       "       [3693],\n",
       "       [3436],\n",
       "       [3433],\n",
       "       [3449],\n",
       "       [4341],\n",
       "       [4354],\n",
       "       [4312],\n",
       "       [4425],\n",
       "       [3850],\n",
       "       [3563],\n",
       "       [3609],\n",
       "       [3761],\n",
       "       [3086],\n",
       "       [2372],\n",
       "       [2833],\n",
       "       [2774],\n",
       "       [2587],\n",
       "       [2130],\n",
       "       [1835],\n",
       "       [2672],\n",
       "       [2430],\n",
       "       [2375],\n",
       "       [2234],\n",
       "       [2648],\n",
       "       [4615],\n",
       "       [4376],\n",
       "       [4382],\n",
       "       [4732],\n",
       "       [2130],\n",
       "       [2264],\n",
       "       [2228],\n",
       "       [2634],\n",
       "       [3439],\n",
       "       [3329],\n",
       "       [3302],\n",
       "       [3288],\n",
       "       [4209],\n",
       "       [4464],\n",
       "       [4154],\n",
       "       [4096],\n",
       "       [4955],\n",
       "       [4746],\n",
       "       [5140],\n",
       "       [2962],\n",
       "       [2408],\n",
       "       [3282],\n",
       "       [3139],\n",
       "       [2220],\n",
       "       [2123],\n",
       "       [2074],\n",
       "       [2065],\n",
       "       [1773],\n",
       "       [1613],\n",
       "       [1834],\n",
       "       [1955],\n",
       "       [2278],\n",
       "       [2126],\n",
       "       [2254],\n",
       "       [2408],\n",
       "       [2226],\n",
       "       [4274],\n",
       "       [4385],\n",
       "       [4135],\n",
       "       [4129],\n",
       "       [3672],\n",
       "       [4633],\n",
       "       [4502],\n",
       "       [4456],\n",
       "       [4422],\n",
       "       [2330],\n",
       "       [3892],\n",
       "       [4098],\n",
       "       [4294],\n",
       "       [4077],\n",
       "       [2933],\n",
       "       [2511],\n",
       "       [2979],\n",
       "       [2189],\n",
       "       [2395],\n",
       "       [2288],\n",
       "       [2506],\n",
       "       [2164],\n",
       "       [2100],\n",
       "       [4100],\n",
       "       [3672],\n",
       "       [3988],\n",
       "       [4042],\n",
       "       [3777],\n",
       "       [4952],\n",
       "       [4464],\n",
       "       [4363],\n",
       "       [4237],\n",
       "       [4735],\n",
       "       [4951],\n",
       "       [3821],\n",
       "       [3121],\n",
       "       [3278],\n",
       "       [2945],\n",
       "       [3021],\n",
       "       [2904],\n",
       "       [1950],\n",
       "       [4997],\n",
       "       [4906],\n",
       "       [4654],\n",
       "       [4499],\n",
       "       [2789],\n",
       "       [2279],\n",
       "       [2401],\n",
       "       [2379],\n",
       "       [2124],\n",
       "       [2310],\n",
       "       [2472],\n",
       "       [2265],\n",
       "       [4082],\n",
       "       [4278],\n",
       "       [1867],\n",
       "       [2158],\n",
       "       [2582],\n",
       "       [2868],\n",
       "       [3399],\n",
       "       [2660],\n",
       "       [2807],\n",
       "       [3664],\n",
       "       [3102],\n",
       "       [2901],\n",
       "       [3336],\n",
       "       [1950],\n",
       "       [2451],\n",
       "       [1836],\n",
       "       [2542],\n",
       "       [3781],\n",
       "       [3632],\n",
       "       [3613],\n",
       "       [4141],\n",
       "       [4699],\n",
       "       [4457],\n",
       "       [4638],\n",
       "       [4257],\n",
       "       [2219],\n",
       "       [1963],\n",
       "       [2300],\n",
       "       [1649],\n",
       "       [2003],\n",
       "       [2125],\n",
       "       [2108],\n",
       "       [2246],\n",
       "       [2489],\n",
       "       [2391],\n",
       "       [2000],\n",
       "       [3264],\n",
       "       [3459],\n",
       "       [3432],\n",
       "       [3158],\n",
       "       [4668],\n",
       "       [4440],\n",
       "       [4498],\n",
       "       [4657],\n",
       "       [3907],\n",
       "       [3897],\n",
       "       [3730],\n",
       "       [3785],\n",
       "       [3039],\n",
       "       [3221],\n",
       "       [3169],\n",
       "       [2171],\n",
       "       [2639],\n",
       "       [2914],\n",
       "       [2592],\n",
       "       [2702],\n",
       "       [2223],\n",
       "       [2545],\n",
       "       [2984],\n",
       "       [1937],\n",
       "       [3211],\n",
       "       [2694],\n",
       "       [2957],\n",
       "       [2945],\n",
       "       [2671],\n",
       "       [1795],\n",
       "       [2464],\n",
       "       [2220],\n",
       "       [2572],\n",
       "       [2255],\n",
       "       [2202],\n",
       "       [4215],\n",
       "       [4190],\n",
       "       [3962],\n",
       "       [4215],\n",
       "       [3233],\n",
       "       [3353],\n",
       "       [3012],\n",
       "       [3085],\n",
       "       [2035],\n",
       "       [2164],\n",
       "       [1937],\n",
       "       [1795],\n",
       "       [3651],\n",
       "       [3574],\n",
       "       [3645],\n",
       "       [3193],\n",
       "       [1825],\n",
       "       [1990],\n",
       "       [2155],\n",
       "       [2565],\n",
       "       [3150],\n",
       "       [3940],\n",
       "       [3270],\n",
       "       [2930],\n",
       "       [3820],\n",
       "       [4380],\n",
       "       [4055],\n",
       "       [3870],\n",
       "       [3755],\n",
       "       [2045],\n",
       "       [2155],\n",
       "       [1825],\n",
       "       [2300],\n",
       "       [1945],\n",
       "       [3880],\n",
       "       [4060],\n",
       "       [4140],\n",
       "       [4295],\n",
       "       [3520],\n",
       "       [3425],\n",
       "       [3630],\n",
       "       [3525],\n",
       "       [4220],\n",
       "       [4165],\n",
       "       [4325],\n",
       "       [4335],\n",
       "       [1940],\n",
       "       [2740],\n",
       "       [2265],\n",
       "       [2755],\n",
       "       [2051],\n",
       "       [2075],\n",
       "       [1985],\n",
       "       [2190],\n",
       "       [2815],\n",
       "       [2600],\n",
       "       [2720],\n",
       "       [1985],\n",
       "       [1800],\n",
       "       [1985],\n",
       "       [2070],\n",
       "       [1800],\n",
       "       [3365],\n",
       "       [3735],\n",
       "       [3570],\n",
       "       [3535],\n",
       "       [3155],\n",
       "       [2965],\n",
       "       [2720],\n",
       "       [3430],\n",
       "       [3210],\n",
       "       [3380],\n",
       "       [3070],\n",
       "       [3620],\n",
       "       [3410],\n",
       "       [3425],\n",
       "       [3445],\n",
       "       [3205],\n",
       "       [4080],\n",
       "       [2155],\n",
       "       [2560],\n",
       "       [2300],\n",
       "       [2230],\n",
       "       [2515],\n",
       "       [2745],\n",
       "       [2855],\n",
       "       [2405],\n",
       "       [2830],\n",
       "       [3140],\n",
       "       [2795],\n",
       "       [3410],\n",
       "       [1990],\n",
       "       [2135],\n",
       "       [3245],\n",
       "       [2990],\n",
       "       [2890],\n",
       "       [3265],\n",
       "       [3360],\n",
       "       [3840],\n",
       "       [3725],\n",
       "       [3955],\n",
       "       [3830],\n",
       "       [4360],\n",
       "       [4054],\n",
       "       [3605],\n",
       "       [3940],\n",
       "       [1925],\n",
       "       [1975],\n",
       "       [1915],\n",
       "       [2670],\n",
       "       [3530],\n",
       "       [3900],\n",
       "       [3190],\n",
       "       [3420],\n",
       "       [2200],\n",
       "       [2150],\n",
       "       [2020],\n",
       "       [2130],\n",
       "       [2670],\n",
       "       [2595],\n",
       "       [2700],\n",
       "       [2556],\n",
       "       [2144],\n",
       "       [1968],\n",
       "       [2120],\n",
       "       [2019],\n",
       "       [2678],\n",
       "       [2870],\n",
       "       [3003],\n",
       "       [3381],\n",
       "       [2188],\n",
       "       [2711],\n",
       "       [2542],\n",
       "       [2434],\n",
       "       [2265],\n",
       "       [2110],\n",
       "       [2800],\n",
       "       [2110],\n",
       "       [2085],\n",
       "       [2335],\n",
       "       [2950],\n",
       "       [3250],\n",
       "       [1850],\n",
       "       [2145],\n",
       "       [1845],\n",
       "       [2910],\n",
       "       [2420],\n",
       "       [2500],\n",
       "       [2290],\n",
       "       [2490],\n",
       "       [2635],\n",
       "       [2620],\n",
       "       [2725],\n",
       "       [2385],\n",
       "       [1755],\n",
       "       [1875],\n",
       "       [1760],\n",
       "       [2065],\n",
       "       [1975],\n",
       "       [2050],\n",
       "       [1985],\n",
       "       [2215],\n",
       "       [2045],\n",
       "       [2380],\n",
       "       [2190],\n",
       "       [2210],\n",
       "       [2350],\n",
       "       [2615],\n",
       "       [2635],\n",
       "       [3230],\n",
       "       [3160],\n",
       "       [2900],\n",
       "       [2930],\n",
       "       [3415],\n",
       "       [3725],\n",
       "       [3060],\n",
       "       [3465],\n",
       "       [2605],\n",
       "       [2640],\n",
       "       [2395],\n",
       "       [2575],\n",
       "       [2525],\n",
       "       [2735],\n",
       "       [2865],\n",
       "       [1980],\n",
       "       [2025],\n",
       "       [1970],\n",
       "       [2125],\n",
       "       [2125],\n",
       "       [2160],\n",
       "       [2205],\n",
       "       [2245],\n",
       "       [1965],\n",
       "       [1965],\n",
       "       [1995],\n",
       "       [2945],\n",
       "       [3015],\n",
       "       [2585],\n",
       "       [2835],\n",
       "       [2665],\n",
       "       [2370],\n",
       "       [2950],\n",
       "       [2790],\n",
       "       [2130],\n",
       "       [2295],\n",
       "       [2625],\n",
       "       [2720]])"
      ]
     },
     "execution_count": 9,
     "metadata": {},
     "output_type": "execute_result"
    }
   ],
   "source": [
    "X"
   ]
  },
  {
   "cell_type": "code",
   "execution_count": 15,
   "metadata": {},
   "outputs": [
    {
     "name": "stdout",
     "output_type": "stream",
     "text": [
      "1613\n",
      "5140\n"
     ]
    }
   ],
   "source": [
    "print(X.min())\n",
    "print(X.max())"
   ]
  },
  {
   "cell_type": "code",
   "execution_count": 12,
   "metadata": {},
   "outputs": [
    {
     "data": {
      "text/plain": [
       "array([1513.  , 1513.01, 1513.02, ..., 5139.97, 5139.98, 5139.99])"
      ]
     },
     "execution_count": 12,
     "metadata": {},
     "output_type": "execute_result"
    }
   ],
   "source": [
    "np.arange(min(X)-100, max(X), 0.01)"
   ]
  },
  {
   "cell_type": "code",
   "execution_count": 13,
   "metadata": {},
   "outputs": [
    {
     "data": {
      "text/plain": [
       "array([[1513.  ],\n",
       "       [1513.01],\n",
       "       [1513.02],\n",
       "       ...,\n",
       "       [5139.97],\n",
       "       [5139.98],\n",
       "       [5139.99]])"
      ]
     },
     "execution_count": 13,
     "metadata": {},
     "output_type": "execute_result"
    }
   ],
   "source": [
    "np.arange(min(X)-100, max(X), 0.01)[:, np.newaxis]"
   ]
  },
  {
   "cell_type": "code",
   "execution_count": 17,
   "metadata": {},
   "outputs": [
    {
     "data": {
      "image/png": "[encoded data removed]",
      "text/plain": [
       "<Figure size 432x288 with 1 Axes>"
      ]
     },
     "metadata": {
      "needs_background": "light"
     },
     "output_type": "display_data"
    }
   ],
   "source": [
    "# Plot result\n",
    "X_test = np.arange(min(X)-100, max(X), 0.01)[:, np.newaxis]\n",
    "y_1 = regr_1.predict(X_test)\n",
    "y_2 = regr_2.predict(X_test)\n",
    "plt.scatter(X, y, s=20, c=\"b\")\n",
    "plt.plot(X_test, y_1, color=\"k\", linewidth=2)\n",
    "plt.xlabel(\"weight\")\n",
    "plt.ylabel(\"mpg\")\n",
    "plt.title(\"Decision Tree Regression, max_depth = 2\")\n",
    "plt.show()\n",
    "\n",
    "# können nur bei weight splitten \n",
    "# -> 4 Plateaus binary splitting max depth 2\n",
    "# benutzen Mittelwert"
   ]
  },
  {
   "cell_type": "code",
   "execution_count": 8,
   "metadata": {},
   "outputs": [
    {
     "data": {
      "image/png": "[encoded data removed]",
      "text/plain": [
       "<Figure size 432x288 with 1 Axes>"
      ]
     },
     "metadata": {
      "needs_background": "light"
     },
     "output_type": "display_data"
    }
   ],
   "source": [
    "plt.scatter(X, y, s=20, c=\"b\")\n",
    "plt.plot(X_test, y_2, color=\"k\", linewidth=2)\n",
    "plt.xlabel(\"weight\")\n",
    "plt.ylabel(\"mpg\")\n",
    "plt.title(\"Decision Tree Regression, max_depth = 10\")\n",
    "plt.show()\n",
    "# binary splitting Tiefe von 10\n",
    "# 2^10"
   ]
  },
  {
   "cell_type": "markdown",
   "metadata": {},
   "source": [
    "# Random Forest Regressor"
   ]
  },
  {
   "cell_type": "code",
   "execution_count": 9,
   "metadata": {},
   "outputs": [
    {
     "name": "stdout",
     "output_type": "stream",
     "text": [
      "Best parameter (CV score=0.40):{'max_depth': 2, 'n_estimators': 500})\n",
      "R^2: 0.7311809112380055\n",
      "MSE: 16.334183978746722\n",
      "MAE: 2.9632466681045746\n"
     ]
    }
   ],
   "source": [
    "X = df['weight'].values.reshape(-1, 1)\n",
    "y = df['mpg'].values.reshape(-1, 1)\n",
    "\n",
    "param_grid = [\n",
    "    {'max_depth': range(2, 10, 2),\n",
    "     'n_estimators': [100, 200, 500]}\n",
    "]\n",
    "\n",
    "regr = RandomForestRegressor()\n",
    "search = GridSearchCV(regr, param_grid, cv=10)\n",
    "search.fit(X, y.ravel())\n",
    "print(\"Best parameter (CV score={:.2f}):{})\".format(search.best_score_, search.best_params_))\n",
    "\n",
    "#bekomme 100 Werte raus -> bilde Mittelwert \n",
    "\n",
    "# Score \n",
    "get_metrics(X, y, search)"
   ]
  },
  {
   "cell_type": "code",
   "execution_count": 10,
   "metadata": {},
   "outputs": [
    {
     "data": {
      "image/png": "[encoded data removed]",
      "text/plain": [
       "<Figure size 432x288 with 1 Axes>"
      ]
     },
     "metadata": {
      "needs_background": "light"
     },
     "output_type": "display_data"
    }
   ],
   "source": [
    "# Plot result\n",
    "regr = RandomForestRegressor(max_depth=2, n_estimators=500)\n",
    "regr.fit(X, y.ravel())\n",
    "X_test = np.arange(min(X)-100, max(X), 0.01)[:, np.newaxis]\n",
    "y_1 = regr.predict(X_test)\n",
    "plt.scatter(X, y, s=20, c=\"b\")\n",
    "plt.plot(X_test, y_1, color=\"k\", linewidth=2)\n",
    "plt.xlabel(\"weight\")\n",
    "plt.ylabel(\"mpg\")\n",
    "plt.title(\"Decision Tree Regression, max_depth = 2\")\n",
    "plt.show()\n",
    "\n",
    "# haben nun Mittelwerte von Plateaus -> kommt gut der Kurve nach "
   ]
  },
  {
   "cell_type": "markdown",
   "metadata": {},
   "source": [
    "# XGBoost Regressor"
   ]
  },
  {
   "cell_type": "code",
   "execution_count": 11,
   "metadata": {},
   "outputs": [
    {
     "name": "stdout",
     "output_type": "stream",
     "text": [
      "Best parameter (CV score=0.41):{'max_depth': 1, 'n_estimators': 100})\n",
      "R^2: 0.7526445475865019\n",
      "MSE: 15.029994657282057\n",
      "MAE: 2.8135444096156528\n"
     ]
    }
   ],
   "source": [
    "X = df['weight'].values.reshape(-1, 1)\n",
    "y = df['mpg'].values.reshape(-1, 1)\n",
    "\n",
    "param_grid = [\n",
    "    {'max_depth': [1, 2, 3, 4],\n",
    "     'n_estimators': [100, 200]}\n",
    "]\n",
    "\n",
    "regr = XGBRegressor()\n",
    "search = GridSearchCV(regr, param_grid, cv=10)\n",
    "search.fit(X, y.ravel())\n",
    "print(\"Best parameter (CV score={:.2f}):{})\".format(search.best_score_, search.best_params_))\n",
    "\n",
    "# Score \n",
    "get_metrics(X, y, search)"
   ]
  },
  {
   "cell_type": "code",
   "execution_count": 12,
   "metadata": {},
   "outputs": [
    {
     "data": {
      "image/png": "[encoded data removed]",
      "text/plain": [
       "<Figure size 432x288 with 1 Axes>"
      ]
     },
     "metadata": {
      "needs_background": "light"
     },
     "output_type": "display_data"
    }
   ],
   "source": [
    "# Plot result\n",
    "regr = XGBRegressor(max_depth=2, n_estimators=100)\n",
    "regr.fit(X, y.ravel())\n",
    "X_test = np.arange(min(X)-100, max(X), 0.01)[:, np.newaxis]\n",
    "y_1 = regr.predict(X_test)\n",
    "plt.scatter(X, y, s=20, c=\"b\")\n",
    "plt.plot(X_test, y_1, color=\"k\", linewidth=2)\n",
    "plt.xlabel(\"weight\")\n",
    "plt.ylabel(\"mpg\")\n",
    "plt.title(\"Decision Tree Regression, max_depth = 2\")\n",
    "plt.show()"
   ]
  },
  {
   "cell_type": "markdown",
   "metadata": {},
   "source": [
    "# ARIMA Model"
   ]
  },
  {
   "cell_type": "code",
   "execution_count": 13,
   "metadata": {},
   "outputs": [
    {
     "data": {
      "text/html": [
       "<div>\n",
       "<style scoped>\n",
       "    .dataframe tbody tr th:only-of-type {\n",
       "        vertical-align: middle;\n",
       "    }\n",
       "\n",
       "    .dataframe tbody tr th {\n",
       "        vertical-align: top;\n",
       "    }\n",
       "\n",
       "    .dataframe thead th {\n",
       "        text-align: right;\n",
       "    }\n",
       "</style>\n",
       "<table border=\"1\" class=\"dataframe\">\n",
       "  <thead>\n",
       "    <tr style=\"text-align: right;\">\n",
       "      <th></th>\n",
       "      <th>Sales</th>\n",
       "    </tr>\n",
       "    <tr>\n",
       "      <th>Month</th>\n",
       "      <th></th>\n",
       "    </tr>\n",
       "  </thead>\n",
       "  <tbody>\n",
       "    <tr>\n",
       "      <th>2001-01</th>\n",
       "      <td>266.0</td>\n",
       "    </tr>\n",
       "    <tr>\n",
       "      <th>2001-02</th>\n",
       "      <td>145.9</td>\n",
       "    </tr>\n",
       "    <tr>\n",
       "      <th>2001-03</th>\n",
       "      <td>183.1</td>\n",
       "    </tr>\n",
       "    <tr>\n",
       "      <th>2001-04</th>\n",
       "      <td>119.3</td>\n",
       "    </tr>\n",
       "    <tr>\n",
       "      <th>2001-05</th>\n",
       "      <td>180.3</td>\n",
       "    </tr>\n",
       "  </tbody>\n",
       "</table>\n",
       "</div>"
      ],
      "text/plain": [
       "         Sales\n",
       "Month         \n",
       "2001-01  266.0\n",
       "2001-02  145.9\n",
       "2001-03  183.1\n",
       "2001-04  119.3\n",
       "2001-05  180.3"
      ]
     },
     "execution_count": 13,
     "metadata": {},
     "output_type": "execute_result"
    }
   ],
   "source": [
    "from statsmodels.tsa.arima.model import ARIMA\n",
    "\n",
    "# load dataset\n",
    "series = pd.read_csv('shampoo_sales.csv', parse_dates=[0], infer_datetime_format=True).set_index('Month')\n",
    "series.index = series.index.to_period('M')\n",
    "series.head()"
   ]
  },
  {
   "cell_type": "code",
   "execution_count": 14,
   "metadata": {},
   "outputs": [
    {
     "data": {
      "image/png": "[encoded data removed]",
      "text/plain": [
       "<Figure size 432x288 with 1 Axes>"
      ]
     },
     "metadata": {
      "needs_background": "light"
     },
     "output_type": "display_data"
    }
   ],
   "source": [
    "series.plot()\n",
    "plt.show()"
   ]
  },
  {
   "cell_type": "code",
   "execution_count": 15,
   "metadata": {},
   "outputs": [
    {
     "name": "stdout",
     "output_type": "stream",
     "text": [
      "ADF Statistic: 3.060142\n",
      "p-value: 1.000000\n"
     ]
    }
   ],
   "source": [
    "from statsmodels.tsa.stattools import adfuller\n",
    "result = adfuller(series.values)\n",
    "print('ADF Statistic: %f' % result[0])\n",
    "print('p-value: %f' % result[1])\n",
    "# hier müsste nun eigentlich differenziert werden und der adfuller Test auf der differenzierten Zeitreihe nochmals ausgeführt werden!"
   ]
  },
  {
   "cell_type": "code",
   "execution_count": 16,
   "metadata": {},
   "outputs": [
    {
     "data": {
      "image/png": "[encoded data removed]",
      "text/plain": [
       "<Figure size 432x288 with 1 Axes>"
      ]
     },
     "metadata": {
      "needs_background": "light"
     },
     "output_type": "display_data"
    }
   ],
   "source": [
    "from statsmodels.graphics.tsaplots import plot_acf\n",
    "plot_acf(series)\n",
    "plt.show()"
   ]
  },
  {
   "cell_type": "code",
   "execution_count": 17,
   "metadata": {},
   "outputs": [
    {
     "data": {
      "image/png": "[encoded data removed]",
      "text/plain": [
       "<Figure size 432x288 with 1 Axes>"
      ]
     },
     "metadata": {
      "needs_background": "light"
     },
     "output_type": "display_data"
    }
   ],
   "source": [
    "from statsmodels.graphics.tsaplots import plot_pacf\n",
    "plot_pacf(series)\n",
    "plt.show()"
   ]
  },
  {
   "cell_type": "code",
   "execution_count": 21,
   "metadata": {},
   "outputs": [
    {
     "name": "stdout",
     "output_type": "stream",
     "text": [
      "                               SARIMAX Results                                \n",
      "==============================================================================\n",
      "Dep. Variable:                  Sales   No. Observations:                   36\n",
      "Model:                 ARIMA(2, 1, 3)   Log Likelihood                -196.448\n",
      "Date:                Fri, 17 Dec 2021   AIC                            404.896\n",
      "Time:                        10:39:15   BIC                            414.228\n",
      "Sample:                    01-31-2001   HQIC                           408.118\n",
      "                         - 12-31-2003                                         \n",
      "Covariance Type:                  opg                                         \n",
      "==============================================================================\n",
      "                 coef    std err          z      P>|z|      [0.025      0.975]\n",
      "------------------------------------------------------------------------------\n",
      "ar.L1         -0.2643      0.818     -0.323      0.747      -1.867       1.339\n",
      "ar.L2          0.2517      0.294      0.855      0.393      -0.325       0.829\n",
      "ma.L1         -0.9679      4.798     -0.202      0.840     -10.373       8.437\n",
      "ma.L2          0.3049      4.368      0.070      0.944      -8.256       8.866\n",
      "ma.L3          0.4760      3.563      0.134      0.894      -6.508       7.460\n",
      "sigma2      3715.1518   2.45e+04      0.152      0.879   -4.43e+04    5.17e+04\n",
      "===================================================================================\n",
      "Ljung-Box (L1) (Q):                   0.01   Jarque-Bera (JB):                 0.49\n",
      "Prob(Q):                              0.91   Prob(JB):                         0.78\n",
      "Heteroskedasticity (H):               1.14   Skew:                             0.20\n",
      "Prob(H) (two-sided):                  0.83   Kurtosis:                         2.58\n",
      "===================================================================================\n",
      "\n",
      "Warnings:\n",
      "[1] Covariance matrix calculated using the outer product of gradients (complex-step).\n"
     ]
    },
    {
     "name": "stderr",
     "output_type": "stream",
     "text": [
      "c:\\users\\maxih\\anaconda3\\envs\\python_env\\lib\\site-packages\\statsmodels\\base\\model.py:566: ConvergenceWarning: Maximum Likelihood optimization failed to converge. Check mle_retvals\n",
      "  warnings.warn(\"Maximum Likelihood optimization failed to \"\n"
     ]
    }
   ],
   "source": [
    "# fit model\n",
    "model = ARIMA(series, order=(2,1,3))\n",
    "model_fit = model.fit()\n",
    "# summary of fit model\n",
    "print(model_fit.summary())"
   ]
  },
  {
   "cell_type": "code",
   "execution_count": 22,
   "metadata": {},
   "outputs": [
    {
     "name": "stdout",
     "output_type": "stream",
     "text": [
      "predicted=358.914927, expected=342.300000\n",
      "predicted=307.528541, expected=339.700000\n",
      "predicted=365.788197, expected=440.400000\n",
      "predicted=362.017275, expected=315.900000\n",
      "predicted=423.407802, expected=439.300000\n",
      "predicted=375.000820, expected=401.300000\n",
      "predicted=455.359393, expected=437.400000\n",
      "predicted=421.618886, expected=575.500000\n"
     ]
    },
    {
     "name": "stderr",
     "output_type": "stream",
     "text": [
      "c:\\users\\maxih\\anaconda3\\envs\\python_env\\lib\\site-packages\\statsmodels\\tsa\\statespace\\sarimax.py:966: UserWarning: Non-stationary starting autoregressive parameters found. Using zeros as starting parameters.\n",
      "  warn('Non-stationary starting autoregressive parameters'\n",
      "c:\\users\\maxih\\anaconda3\\envs\\python_env\\lib\\site-packages\\statsmodels\\tsa\\statespace\\sarimax.py:978: UserWarning: Non-invertible starting MA parameters found. Using zeros as starting parameters.\n",
      "  warn('Non-invertible starting MA parameters found.'\n"
     ]
    },
    {
     "name": "stdout",
     "output_type": "stream",
     "text": [
      "predicted=453.364237, expected=407.600000\n"
     ]
    },
    {
     "name": "stderr",
     "output_type": "stream",
     "text": [
      "c:\\users\\maxih\\anaconda3\\envs\\python_env\\lib\\site-packages\\statsmodels\\base\\model.py:566: ConvergenceWarning: Maximum Likelihood optimization failed to converge. Check mle_retvals\n",
      "  warnings.warn(\"Maximum Likelihood optimization failed to \"\n"
     ]
    },
    {
     "name": "stdout",
     "output_type": "stream",
     "text": [
      "predicted=536.500191, expected=682.000000\n"
     ]
    },
    {
     "name": "stderr",
     "output_type": "stream",
     "text": [
      "c:\\users\\maxih\\anaconda3\\envs\\python_env\\lib\\site-packages\\statsmodels\\base\\model.py:566: ConvergenceWarning: Maximum Likelihood optimization failed to converge. Check mle_retvals\n",
      "  warnings.warn(\"Maximum Likelihood optimization failed to \"\n"
     ]
    },
    {
     "name": "stdout",
     "output_type": "stream",
     "text": [
      "predicted=512.777691, expected=475.300000\n"
     ]
    },
    {
     "name": "stderr",
     "output_type": "stream",
     "text": [
      "c:\\users\\maxih\\anaconda3\\envs\\python_env\\lib\\site-packages\\statsmodels\\base\\model.py:566: ConvergenceWarning: Maximum Likelihood optimization failed to converge. Check mle_retvals\n",
      "  warnings.warn(\"Maximum Likelihood optimization failed to \"\n"
     ]
    },
    {
     "name": "stdout",
     "output_type": "stream",
     "text": [
      "predicted=670.697424, expected=581.300000\n",
      "Test RMSE: 74.50501388956675\n"
     ]
    },
    {
     "data": {
      "image/png": "[encoded data removed]",
      "text/plain": [
       "<Figure size 432x288 with 1 Axes>"
      ]
     },
     "metadata": {
      "needs_background": "light"
     },
     "output_type": "display_data"
    }
   ],
   "source": [
    "from math import sqrt\n",
    "# split into train and test sets\n",
    "X = series.values\n",
    "size = int(len(X) * 0.66)\n",
    "train, test = X[0:size], X[size:-1]\n",
    "history = [x for x in train]\n",
    "predictions = list()\n",
    "# rolling forecast\n",
    "for t in range(len(test)):\n",
    "    model = ARIMA(history, order=(2,1,3))\n",
    "    model_fit = model.fit()\n",
    "    output = model_fit.forecast()\n",
    "    yhat = output[0]\n",
    "    predictions.append(yhat)\n",
    "    obs = test[t]\n",
    "    history.append(obs)\n",
    "    print('predicted=%f, expected=%f' % (yhat, obs))\n",
    "# evaluate forecasts\n",
    "rmse = sqrt(mean_squared_error(test, predictions))\n",
    "print('Test RMSE: {}'.format(rmse))\n",
    "# plot forecasts against actual outcomes\n",
    "plt.plot(test, label='test data')\n",
    "plt.plot(predictions, color='red', label='prediction')\n",
    "plt.legend()\n",
    "plt.show()"
   ]
  },
  {
   "cell_type": "code",
   "execution_count": null,
   "metadata": {},
   "outputs": [],
   "source": []
  }
 ],
 "metadata": {
  "kernelspec": {
   "display_name": "Python 3",
   "language": "python",
   "name": "python3"
  },
  "language_info": {
   "codemirror_mode": {
    "name": "ipython",
    "version": 3
   },
   "file_extension": ".py",
   "mimetype": "text/x-python",
   "name": "python",
   "nbconvert_exporter": "python",
   "pygments_lexer": "ipython3",
   "version": "3.8.5"
  }
 },
 "nbformat": 4,
 "nbformat_minor": 5
}
